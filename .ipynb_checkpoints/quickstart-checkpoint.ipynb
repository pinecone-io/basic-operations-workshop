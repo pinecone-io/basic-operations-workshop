{
 "cells": [
  {
   "cell_type": "markdown",
   "metadata": {},
   "source": [
    "# Quickstart\n",
    "How to get started with the Pinecone vector database.\n",
    "\n",
    "This guide explains how to set up a Pinecone vector database in minutes.\n",
    "\n",
    "# 1. Install Pinecone client \n",
    "Use the following shell command to install Pinecone:"
   ]
  },
  {
   "cell_type": "code",
   "execution_count": null,
   "metadata": {
    "is_executing": true
   },
   "outputs": [],
   "source": [
    "pip install \"pinecone-client[grpc]\""
   ]
  },
  {
   "cell_type": "markdown",
   "metadata": {},
   "source": [
    "# 2. Initialize Pinecone client and create your first index\n",
    "\n",
    "* To use Pinecone, you must have an API key. To find your API key, open the [Pinecone console](https://app.pinecone.io/organizations/-NF9xx-MFLRfp0AAuCon/projects/us-east4-gcp:55a4eee/indexes) and click API Keys. This view also displays the environment for your project. Note both your API key and your environment.\n",
    "* Please specify a unique INDEX_NAME using the following naming convention: 'firstname-lastname-quickstart'\n",
    "* It will take roughly 1 minute to create your index. Once completed a list of all project indexes will be printed."
   ]
  },
  {
   "cell_type": "code",
   "execution_count": null,
   "metadata": {},
   "outputs": [],
   "source": [
    "import pinecone\n",
    "\n",
    "INDEX_NAME = \"???\"\n",
    "PINECONE_API_KEY = \"???\"\n",
    "PINECONE_ENVIRONMENT = \"???\"\n",
    "DIMENSIONS = 768\n",
    "\n",
    "pinecone.init(api_key=PINECONE_API_KEY, environment=PINECONE_ENVIRONMENT)\n",
    "pinecone.create_index(INDEX_NAME, dimension=DIMENSIONS, metric=\"euclidean\", pods=1, replicas=1, pod_type=\"s1.x1\")\n",
    "pinecone.list_indexes()"
   ]
  },
  {
   "cell_type": "markdown",
   "metadata": {},
   "source": [
    "# 3. Insert data and get statistics about your index\n",
    "\n",
    "* The upsert operation inserts a new vector in the index or updates the vector if a vector with the same ID is already present.\n",
    "* The following commands upserts a large batch of vectors into your index."
   ]
  },
  {
   "cell_type": "code",
   "execution_count": null,
   "metadata": {},
   "outputs": [],
   "source": [
    "import numpy as np\n",
    "\n",
    "index = pinecone.Index(INDEX_NAME)\n",
    "\n",
    "def generate_vectors():\n",
    "    vectors = []\n",
    "    id_seed = 1\n",
    "    value_seed = 0.1\n",
    "    for _ in range(500):\n",
    "        embeddings = np.full(shape=DIMENSIONS, fill_value=value_seed).tolist()\n",
    "        vectors.append({'id': str(id_seed), 'values': embeddings})\n",
    "        id_seed = id_seed + 1\n",
    "        value_seed = value_seed + 0.1\n",
    "    return vectors\n",
    "\n",
    "index.upsert(generate_vectors())\n",
    "\n",
    "    \n",
    "index.describe_index_stats()"
   ]
  },
  {
   "cell_type": "markdown",
   "metadata": {},
   "source": [
    "# 4. Query the index and get similar vectors\n",
    "\n",
    "The following example queries the index for the three (3) vectors that are most similar to an example 8-dimensional vector."
   ]
  },
  {
   "cell_type": "code",
   "execution_count": null,
   "metadata": {},
   "outputs": [],
   "source": [
    "embedding = np.full(DIMENSIONS,0.5).tolist()\n",
    "\n",
    "index.query(\n",
    "  vector = embedding,\n",
    "  top_k=10,\n",
    "  include_values=False)"
   ]
  },
  {
   "cell_type": "markdown",
   "metadata": {},
   "source": [
    "# 5. Delete the index\n",
    "\n",
    "Once you no longer need the index, use the delete_index operation to delete it."
   ]
  },
  {
   "cell_type": "code",
   "execution_count": null,
   "metadata": {},
   "outputs": [],
   "source": [
    "pinecone.delete_index(INDEX_NAME)"
   ]
  },
  {
   "cell_type": "code",
   "execution_count": null,
   "metadata": {},
   "outputs": [],
   "source": []
  }
 ],
 "metadata": {
  "kernelspec": {
   "display_name": "Python 3 (ipykernel)",
   "language": "python",
   "name": "python3"
  },
  "language_info": {
   "codemirror_mode": {
    "name": "ipython",
    "version": 3
   },
   "file_extension": ".py",
   "mimetype": "text/x-python",
   "name": "python",
   "nbconvert_exporter": "python",
   "pygments_lexer": "ipython3",
   "version": "3.11.3"
  }
 },
 "nbformat": 4,
 "nbformat_minor": 1
}
