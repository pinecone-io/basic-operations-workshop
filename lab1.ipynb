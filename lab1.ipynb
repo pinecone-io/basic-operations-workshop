{
 "cells": [
  {
   "cell_type": "markdown",
   "metadata": {},
   "source": [
    "# Lab #1\n",
    "[![Open In Colab](https://colab.research.google.com/assets/colab-badge.svg)](https://colab.research.google.com/github/pinecone-io/basic-operations-workshop/blob/main/lab1.ipynb)\n",
    "1. Install pinecone client\n",
    "2. Initialize Pinecone client and create your first index\n",
    "3. Insert vectors and get statistics about your index\n",
    "4. Query for top_k=10 with meta-data filter\n",
    "5. TEARDOWN: Delete the index"
   ]
  },
  {
   "cell_type": "markdown",
   "metadata": {},
   "source": [
    "# 1. Install Pinecone client \n",
    "Use the following shell command to install Pinecone:"
   ]
  },
  {
   "cell_type": "code",
   "execution_count": 1,
   "metadata": {
    "ExecuteTime": {
     "end_time": "2023-06-30T21:27:06.253315Z",
     "start_time": "2023-06-30T21:27:05.369733Z"
    }
   },
   "outputs": [
    {
     "name": "stdout",
     "output_type": "stream",
     "text": [
      "Requirement already satisfied: pinecone-client[grpc] in /Library/Frameworks/Python.framework/Versions/3.11/lib/python3.11/site-packages (2.2.2)\n",
      "Requirement already satisfied: python-dotenv in /Library/Frameworks/Python.framework/Versions/3.11/lib/python3.11/site-packages (1.0.0)\n",
      "Requirement already satisfied: requests>=2.19.0 in /Library/Frameworks/Python.framework/Versions/3.11/lib/python3.11/site-packages (from pinecone-client[grpc]) (2.31.0)\n",
      "Requirement already satisfied: pyyaml>=5.4 in /Library/Frameworks/Python.framework/Versions/3.11/lib/python3.11/site-packages (from pinecone-client[grpc]) (6.0.1)\n",
      "Requirement already satisfied: loguru>=0.5.0 in /Library/Frameworks/Python.framework/Versions/3.11/lib/python3.11/site-packages (from pinecone-client[grpc]) (0.7.0)\n",
      "Requirement already satisfied: typing-extensions>=3.7.4 in /Library/Frameworks/Python.framework/Versions/3.11/lib/python3.11/site-packages (from pinecone-client[grpc]) (4.7.1)\n",
      "Requirement already satisfied: dnspython>=2.0.0 in /Library/Frameworks/Python.framework/Versions/3.11/lib/python3.11/site-packages (from pinecone-client[grpc]) (2.4.0)\n",
      "Requirement already satisfied: python-dateutil>=2.5.3 in /Library/Frameworks/Python.framework/Versions/3.11/lib/python3.11/site-packages (from pinecone-client[grpc]) (2.8.2)\n",
      "Requirement already satisfied: urllib3>=1.21.1 in /Library/Frameworks/Python.framework/Versions/3.11/lib/python3.11/site-packages (from pinecone-client[grpc]) (1.26.16)\n",
      "Requirement already satisfied: tqdm>=4.64.1 in /Library/Frameworks/Python.framework/Versions/3.11/lib/python3.11/site-packages (from pinecone-client[grpc]) (4.65.0)\n",
      "Requirement already satisfied: numpy>=1.22.0 in /Library/Frameworks/Python.framework/Versions/3.11/lib/python3.11/site-packages (from pinecone-client[grpc]) (1.25.1)\n",
      "Requirement already satisfied: grpcio>=1.44.0 in /Library/Frameworks/Python.framework/Versions/3.11/lib/python3.11/site-packages (from pinecone-client[grpc]) (1.56.0)\n",
      "Requirement already satisfied: grpc-gateway-protoc-gen-openapiv2==0.1.0 in /Library/Frameworks/Python.framework/Versions/3.11/lib/python3.11/site-packages (from pinecone-client[grpc]) (0.1.0)\n",
      "Requirement already satisfied: googleapis-common-protos>=1.53.0 in /Library/Frameworks/Python.framework/Versions/3.11/lib/python3.11/site-packages (from pinecone-client[grpc]) (1.59.1)\n",
      "Requirement already satisfied: lz4>=3.1.3 in /Library/Frameworks/Python.framework/Versions/3.11/lib/python3.11/site-packages (from pinecone-client[grpc]) (4.3.2)\n",
      "Requirement already satisfied: protobuf~=3.19.5 in /Library/Frameworks/Python.framework/Versions/3.11/lib/python3.11/site-packages (from pinecone-client[grpc]) (3.19.6)\n",
      "Requirement already satisfied: httpcore>=0.17.3 in /Library/Frameworks/Python.framework/Versions/3.11/lib/python3.11/site-packages (from dnspython>=2.0.0->pinecone-client[grpc]) (0.17.3)\n",
      "Requirement already satisfied: sniffio<2.0,>=1.1 in /Library/Frameworks/Python.framework/Versions/3.11/lib/python3.11/site-packages (from dnspython>=2.0.0->pinecone-client[grpc]) (1.3.0)\n",
      "Requirement already satisfied: six>=1.5 in /Library/Frameworks/Python.framework/Versions/3.11/lib/python3.11/site-packages (from python-dateutil>=2.5.3->pinecone-client[grpc]) (1.16.0)\n",
      "Requirement already satisfied: charset-normalizer<4,>=2 in /Library/Frameworks/Python.framework/Versions/3.11/lib/python3.11/site-packages (from requests>=2.19.0->pinecone-client[grpc]) (3.2.0)\n",
      "Requirement already satisfied: idna<4,>=2.5 in /Library/Frameworks/Python.framework/Versions/3.11/lib/python3.11/site-packages (from requests>=2.19.0->pinecone-client[grpc]) (3.4)\n",
      "Requirement already satisfied: certifi>=2017.4.17 in /Library/Frameworks/Python.framework/Versions/3.11/lib/python3.11/site-packages (from requests>=2.19.0->pinecone-client[grpc]) (2023.5.7)\n",
      "Requirement already satisfied: h11<0.15,>=0.13 in /Library/Frameworks/Python.framework/Versions/3.11/lib/python3.11/site-packages (from httpcore>=0.17.3->dnspython>=2.0.0->pinecone-client[grpc]) (0.14.0)\n",
      "Requirement already satisfied: anyio<5.0,>=3.0 in /Library/Frameworks/Python.framework/Versions/3.11/lib/python3.11/site-packages (from httpcore>=0.17.3->dnspython>=2.0.0->pinecone-client[grpc]) (3.7.1)\n",
      "\n",
      "\u001b[1m[\u001b[0m\u001b[34;49mnotice\u001b[0m\u001b[1;39;49m]\u001b[0m\u001b[39;49m A new release of pip is available: \u001b[0m\u001b[31;49m23.1.2\u001b[0m\u001b[39;49m -> \u001b[0m\u001b[32;49m23.2.1\u001b[0m\n",
      "\u001b[1m[\u001b[0m\u001b[34;49mnotice\u001b[0m\u001b[1;39;49m]\u001b[0m\u001b[39;49m To update, run: \u001b[0m\u001b[32;49mpip install --upgrade pip\u001b[0m\n"
     ]
    }
   ],
   "source": [
    "!pip install -U \"pinecone-client[grpc]\" \"python-dotenv\""
   ]
  },
  {
   "cell_type": "markdown",
   "metadata": {},
   "source": [
    "# 2. Initialize Pinecone client and create your first index\n",
    "\n",
    "* To use Pinecone, you must have an API key. To find your API key, open the [Pinecone console](https://app.pinecone.io/organizations/-NF9xx-MFLRfp0AAuCon/projects/us-east4-gcp:55a4eee/indexes) and click API Keys. This view also displays the environment for your project. Note both your API key and your environment.\n",
    "* Create a .env file and make sure the following properties are specified\n",
    "\n",
    "```\n",
    "PINECONE_API_KEY=[YOUR_PINECONE_API_KEY]\n",
    "PINECONE_ENVIRONMENT=[YOUR_PINECONE_ENVIRONMENT]\n",
    "PINECONE_INDEX_NAME=[YOUR_INDEX_NAME]\n",
    "DIMENSIONS=\"768\"\n",
    "METRIC=\"euclidean\"\n",
    "```\n",
    "\n",
    "* It will take roughly 1 minute to create your index. Once completed a list of all project indexes will be printed."
   ]
  },
  {
   "cell_type": "code",
   "execution_count": 2,
   "metadata": {
    "ExecuteTime": {
     "end_time": "2023-06-30T21:27:13.561916Z",
     "start_time": "2023-06-30T21:27:13.555391Z"
    }
   },
   "outputs": [
    {
     "name": "stdout",
     "output_type": "stream",
     "text": [
      "PINECONE_INDEX_NAME: james-williams\n",
      "PINECONE_ENVIRONMENT: us-east4-gcp\n",
      "PINECONE_API_KEY: 67e40045-9cca-486e-b1ce-1ad1a784d793\n",
      "DIMENSIONS: 768\n",
      "METRIC: euclidean\n"
     ]
    }
   ],
   "source": [
    "import os\n",
    "\n",
    "from dotenv import load_dotenv\n",
    "load_dotenv('.env')\n",
    "\n",
    "PINECONE_INDEX_NAME = os.environ['PINECONE_INDEX_NAME']\n",
    "PINECONE_API_KEY = os.environ['PINECONE_API_KEY']\n",
    "PINECONE_ENVIRONMENT = os.environ['PINECONE_ENVIRONMENT']\n",
    "DIMENSIONS = int(os.environ['DIMENSIONS'])\n",
    "METRIC = os.environ['METRIC']\n",
    "\n",
    "# print all of values to verify\n",
    "print(f\"PINECONE_INDEX_NAME: {PINECONE_INDEX_NAME}\")\n",
    "print(f\"PINECONE_ENVIRONMENT: {PINECONE_ENVIRONMENT}\")\n",
    "print(f\"PINECONE_API_KEY: {PINECONE_API_KEY}\")\n",
    "print(f\"DIMENSIONS: {DIMENSIONS}\")\n",
    "print(f\"METRIC: {METRIC}\")"
   ]
  },
  {
   "cell_type": "code",
   "execution_count": 3,
   "metadata": {
    "ExecuteTime": {
     "end_time": "2023-06-30T21:27:24.258444Z",
     "start_time": "2023-06-30T21:27:22.882530Z"
    },
    "collapsed": false
   },
   "outputs": [
    {
     "name": "stderr",
     "output_type": "stream",
     "text": [
      "/Library/Frameworks/Python.framework/Versions/3.11/lib/python3.11/site-packages/pinecone/index.py:4: TqdmWarning: IProgress not found. Please update jupyter and ipywidgets. See https://ipywidgets.readthedocs.io/en/stable/user_install.html\n",
      "  from tqdm.autonotebook import tqdm\n"
     ]
    },
    {
     "data": {
      "text/plain": [
       "['james-williams']"
      ]
     },
     "execution_count": 3,
     "metadata": {},
     "output_type": "execute_result"
    }
   ],
   "source": [
    "import pinecone\n",
    "\n",
    "pinecone.init(api_key=PINECONE_API_KEY, environment=PINECONE_ENVIRONMENT)\n",
    "pinecone.create_index(PINECONE_INDEX_NAME, dimension=DIMENSIONS, metric=METRIC, pods=1, replicas=1, pod_type=\"s1.x1\")\n",
    "pinecone.list_indexes()"
   ]
  },
  {
   "cell_type": "markdown",
   "metadata": {},
   "source": [
    "# 3. Insert vectors and get statistics about your index\n",
    "\n",
    "* The upsert operation inserts a new vector in the index or updates the vector if a vector with the same ID is already present.\n",
    "* The following commands upserts a large batch of vectors with meta-data into your index."
   ]
  },
  {
   "cell_type": "code",
   "execution_count": 4,
   "metadata": {
    "ExecuteTime": {
     "end_time": "2023-06-30T21:32:36.733352Z",
     "start_time": "2023-06-30T21:32:35.627541Z"
    }
   },
   "outputs": [
    {
     "data": {
      "text/plain": [
       "{'dimension': 768,\n",
       " 'index_fullness': 0.0,\n",
       " 'namespaces': {'': {'vector_count': 500}},\n",
       " 'total_vector_count': 500}"
      ]
     },
     "execution_count": 4,
     "metadata": {},
     "output_type": "execute_result"
    }
   ],
   "source": [
    "import numpy as np\n",
    "import random\n",
    "import time\n",
    "\n",
    "def generate_vectors(dimensions):\n",
    "    vectors = []\n",
    "    id_seed = 1\n",
    "    value_seed = 0.1\n",
    "\n",
    "    for _ in range(500):\n",
    "        meta_data = {\"category\": random.choice([\"one\", \"two\", \"three\"]),\n",
    "                     \"timestamp\": time.time()}\n",
    "        embeddings = np.full(shape=dimensions, fill_value=value_seed).tolist()\n",
    "        vectors.append({'id': str(id_seed),\n",
    "                        'values': embeddings,\n",
    "                        'metadata': meta_data})\n",
    "        id_seed = id_seed + 1\n",
    "        value_seed = value_seed + 0.1\n",
    "    return vectors\n",
    "\n",
    "index = pinecone.Index(PINECONE_INDEX_NAME)\n",
    "index.upsert(generate_vectors(DIMENSIONS))\n",
    "index.describe_index_stats()"
   ]
  },
  {
   "cell_type": "markdown",
   "metadata": {},
   "source": [
    "# 4. Query for top_k=10 with meta-data filter\n",
    "\n",
    "The following example queries the index for the vectors that are most similar to the embedding and match the category filter."
   ]
  },
  {
   "cell_type": "code",
   "execution_count": 7,
   "metadata": {
    "ExecuteTime": {
     "end_time": "2023-06-30T21:32:51.172106Z",
     "start_time": "2023-06-30T21:32:51.118114Z"
    }
   },
   "outputs": [
    {
     "data": {
      "text/plain": [
       "{'matches': [{'id': '5',\n",
       "              'metadata': {'category': 'one', 'timestamp': 1690907825.511887},\n",
       "              'score': 0.0,\n",
       "              'values': []},\n",
       "             {'id': '4',\n",
       "              'metadata': {'category': 'one', 'timestamp': 1690907825.511869},\n",
       "              'score': 7.68005371,\n",
       "              'values': []},\n",
       "             {'id': '8',\n",
       "              'metadata': {'category': 'one', 'timestamp': 1690907825.5119371},\n",
       "              'score': 69.1201782,\n",
       "              'values': []},\n",
       "             {'id': '1',\n",
       "              'metadata': {'category': 'one', 'timestamp': 1690907825.5117729},\n",
       "              'score': 122.880013,\n",
       "              'values': []},\n",
       "             {'id': '11',\n",
       "              'metadata': {'category': 'one', 'timestamp': 1690907825.5119848},\n",
       "              'score': 276.480225,\n",
       "              'values': []},\n",
       "             {'id': '12',\n",
       "              'metadata': {'category': 'one', 'timestamp': 1690907825.511997},\n",
       "              'score': 376.319946,\n",
       "              'values': []},\n",
       "             {'id': '13',\n",
       "              'metadata': {'category': 'one', 'timestamp': 1690907825.512013},\n",
       "              'score': 491.52002,\n",
       "              'values': []},\n",
       "             {'id': '14',\n",
       "              'metadata': {'category': 'one', 'timestamp': 1690907825.512026},\n",
       "              'score': 622.079712,\n",
       "              'values': []},\n",
       "             {'id': '17',\n",
       "              'metadata': {'category': 'one', 'timestamp': 1690907825.512139},\n",
       "              'score': 1105.91919,\n",
       "              'values': []},\n",
       "             {'id': '20',\n",
       "              'metadata': {'category': 'one', 'timestamp': 1690907825.5121841},\n",
       "              'score': 1728.0,\n",
       "              'values': []}],\n",
       " 'namespace': ''}"
      ]
     },
     "execution_count": 7,
     "metadata": {},
     "output_type": "execute_result"
    }
   ],
   "source": [
    "embedding = np.full(DIMENSIONS,0.5).tolist()\n",
    "\n",
    "index.query(\n",
    "  vector = embedding,\n",
    "  top_k=10,\n",
    "  include_values=False,\n",
    "  include_metadata=True,\n",
    "  filter={\n",
    "        \"category\": {\"$eq\": \"one\"}\n",
    "  },)"
   ]
  },
  {
   "cell_type": "markdown",
   "metadata": {
    "collapsed": false
   },
   "source": [
    "# 5. TEARDOWN: Delete the index\n",
    "\n",
    "Free up project pod resources by deleting this index. It is no longer needed."
   ]
  },
  {
   "cell_type": "code",
   "execution_count": 8,
   "metadata": {
    "ExecuteTime": {
     "end_time": "2023-06-30T21:33:06.276580Z",
     "start_time": "2023-06-30T21:33:00.100993Z"
    },
    "collapsed": false
   },
   "outputs": [],
   "source": [
    "pinecone.delete_index(PINECONE_INDEX_NAME)"
   ]
  }
 ],
 "metadata": {
  "kernelspec": {
   "display_name": "Python 3 (ipykernel)",
   "language": "python",
   "name": "python3"
  },
  "language_info": {
   "codemirror_mode": {
    "name": "ipython",
    "version": 3
   },
   "file_extension": ".py",
   "mimetype": "text/x-python",
   "name": "python",
   "nbconvert_exporter": "python",
   "pygments_lexer": "ipython3",
   "version": "3.11.3"
  }
 },
 "nbformat": 4,
 "nbformat_minor": 1
}
