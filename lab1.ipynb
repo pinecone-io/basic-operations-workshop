{
 "cells": [
  {
   "cell_type": "markdown",
   "metadata": {},
   "source": [
    "# Lab #1\n",
    "[![Open In Colab](https://colab.research.google.com/assets/colab-badge.svg)](https://colab.research.google.com/github/pinecone-io/basic-operations-workshop/blob/main/lab1.ipynb)\n",
    "1. Install pinecone client\n",
    "2. Initialize Pinecone client and create your first index\n",
    "3. Insert vectors and get statistics about your index\n",
    "4. Query for top_k=10 with meta-data filter\n",
    "5. TEARDOWN: Delete the index"
   ]
  },
  {
   "cell_type": "markdown",
   "metadata": {},
   "source": [
    "# 1. Install Pinecone client \n",
    "Use the following shell command to install Pinecone:"
   ]
  },
  {
   "cell_type": "code",
   "execution_count": null,
   "metadata": {
    "ExecuteTime": {
     "end_time": "2023-06-30T21:27:06.253315Z",
     "start_time": "2023-06-30T21:27:05.369733Z"
    }
   },
   "outputs": [],
   "source": [
    "!pip install -U \"pinecone-client[grpc]\" \"python-dotenv\"\n",
    "\n",
    "try:\n",
    "    import pinecone\n",
    "    import dotenv\n",
    "    import numpy\n",
    "    print(\"SUCCESS: lab dependencies are installed.\")\n",
    "except ImportError as ie:\n",
    "    print(f\"ERROR: key deendencies are not installed: {ie}\")\n"
   ]
  },
  {
   "cell_type": "markdown",
   "metadata": {},
   "source": [
    "# 2. Initialize Pinecone client and create your first index\n",
    "\n",
    "* To use Pinecone, you must have an API key. To find your API key, open the [Pinecone console](https://app.pinecone.io/organizations/-NF9xx-MFLRfp0AAuCon/projects/us-east4-gcp:55a4eee/indexes) and click API Keys. This view also displays the environment for your project. Note both your API key and your environment.\n",
    "* Create a .env file and make sure the following properties are specified\n",
    "\n",
    "```\n",
    "PINECONE_API_KEY=[YOUR_PINECONE_API_KEY]\n",
    "PINECONE_ENVIRONMENT=[YOUR_PINECONE_ENVIRONMENT]\n",
    "PINECONE_INDEX_NAME=[YOUR_INDEX_NAME]\n",
    "DIMENSIONS=\"768\"\n",
    "METRIC=\"euclidean\"\n",
    "```\n",
    "\n",
    "* It will take roughly 1 minute to create your index. Once completed a list of all project indexes will be printed."
   ]
  },
  {
   "cell_type": "code",
   "execution_count": null,
   "metadata": {
    "ExecuteTime": {
     "end_time": "2023-06-30T21:27:13.561916Z",
     "start_time": "2023-06-30T21:27:13.555391Z"
    }
   },
   "outputs": [],
   "source": [
    "import os\n",
    "\n",
    "from dotenv import load_dotenv\n",
    "load_dotenv('.env')\n",
    "\n",
    "PINECONE_INDEX_NAME = os.environ['PINECONE_INDEX_NAME']\n",
    "PINECONE_API_KEY = os.environ['PINECONE_API_KEY']\n",
    "PINECONE_ENVIRONMENT = os.environ['PINECONE_ENVIRONMENT']\n",
    "DIMENSIONS = int(os.environ['DIMENSIONS'])\n",
    "METRIC = os.environ['METRIC']\n",
    "\n",
    "# print all of values to verify\n",
    "print(f\"PINECONE_INDEX_NAME: {PINECONE_INDEX_NAME}\")\n",
    "print(f\"PINECONE_ENVIRONMENT: {PINECONE_ENVIRONMENT}\")\n",
    "print(f\"PINECONE_API_KEY: {PINECONE_API_KEY}\")\n",
    "print(f\"DIMENSIONS: {DIMENSIONS}\")\n",
    "print(f\"METRIC: {METRIC}\")"
   ]
  },
  {
   "cell_type": "code",
   "execution_count": null,
   "metadata": {
    "ExecuteTime": {
     "end_time": "2023-06-30T21:27:24.258444Z",
     "start_time": "2023-06-30T21:27:22.882530Z"
    },
    "collapsed": false
   },
   "outputs": [],
   "source": [
    "import pinecone\n",
    "\n",
    "pinecone.init(api_key=PINECONE_API_KEY, environment=PINECONE_ENVIRONMENT)\n",
    "\n",
    "if (PINECONE_INDEX_NAME in pinecone.list_indexes()) != True:  \n",
    "    pinecone.create_index(PINECONE_INDEX_NAME, dimension=DIMENSIONS, metric=METRIC, pods=1, replicas=1, pod_type=\"s1.x1\")\n",
    "else:\n",
    "    print(f\"Index {PINECONE_INDEX_NAME} already exists\")\n",
    "\n",
    "print(f\"Index Description: {pinecone.describe_index(name=PINECONE_INDEX_NAME)}\")"
   ]
  },
  {
   "cell_type": "markdown",
   "metadata": {},
   "source": [
    "# 3. Insert vectors and get statistics about your index\n",
    "\n",
    "* The upsert operation inserts a new vector in the index or updates the vector if a vector with the same ID is already present.\n",
    "* The following commands upserts a large batch of vectors with meta-data into your index."
   ]
  },
  {
   "cell_type": "code",
   "execution_count": null,
   "metadata": {
    "ExecuteTime": {
     "end_time": "2023-06-30T21:32:36.733352Z",
     "start_time": "2023-06-30T21:32:35.627541Z"
    }
   },
   "outputs": [],
   "source": [
    "import numpy as np\n",
    "import random\n",
    "import time\n",
    "\n",
    "def generate_vectors(dimensions):\n",
    "    vectors = []\n",
    "    id_seed = 1\n",
    "    value_seed = 0.1\n",
    "\n",
    "    for _ in range(500):\n",
    "        meta_data = {\"category\": random.choice([\"one\", \"two\", \"three\"]),\n",
    "                     \"timestamp\": time.time()}\n",
    "        embeddings = np.full(shape=dimensions, fill_value=value_seed).tolist()\n",
    "        vectors.append({'id': str(id_seed),\n",
    "                        'values': embeddings,\n",
    "                        'metadata': meta_data})\n",
    "        id_seed = id_seed + 1\n",
    "        value_seed = value_seed + 0.1\n",
    "    return vectors\n",
    "\n",
    "index = pinecone.Index(PINECONE_INDEX_NAME)\n",
    "index.upsert(generate_vectors(DIMENSIONS))\n",
    "index.describe_index_stats()\n",
    "print(f\"Index Stats: {index.describe_index_stats()}\")"
   ]
  },
  {
   "cell_type": "markdown",
   "metadata": {},
   "source": [
    "# 4. Query for top_k=10 with meta-data filter\n",
    "\n",
    "The following example queries the index for the vectors that are most similar to the embedding and match the category filter."
   ]
  },
  {
   "cell_type": "code",
   "execution_count": null,
   "metadata": {
    "ExecuteTime": {
     "end_time": "2023-06-30T21:32:51.172106Z",
     "start_time": "2023-06-30T21:32:51.118114Z"
    }
   },
   "outputs": [],
   "source": [
    "embedding = np.full(DIMENSIONS,0.5).tolist()\n",
    "\n",
    "query_results = index.query(\n",
    "  vector = embedding,\n",
    "  top_k=10,\n",
    "  include_values=False,\n",
    "  include_metadata=True,\n",
    "  filter={\n",
    "        \"category\": {\"$eq\": \"one\"}\n",
    "  },).matches\n",
    "print(f\"Query results: {query_results}\")"
   ]
  },
  {
   "cell_type": "markdown",
   "metadata": {
    "collapsed": false
   },
   "source": [
    "# 5. TEARDOWN: Delete the index\n",
    "\n",
    "Free up project pod resources by deleting this index. It is no longer needed."
   ]
  },
  {
   "cell_type": "code",
   "execution_count": null,
   "metadata": {
    "ExecuteTime": {
     "end_time": "2023-06-30T21:33:06.276580Z",
     "start_time": "2023-06-30T21:33:00.100993Z"
    },
    "collapsed": false
   },
   "outputs": [],
   "source": [
    "pinecone.delete_index(PINECONE_INDEX_NAME)"
   ]
  }
 ],
 "metadata": {
  "kernelspec": {
   "display_name": "Python 3 (ipykernel)",
   "language": "python",
   "name": "python3"
  },
  "language_info": {
   "codemirror_mode": {
    "name": "ipython",
    "version": 3
   },
   "file_extension": ".py",
   "mimetype": "text/x-python",
   "name": "python",
   "nbconvert_exporter": "python",
   "pygments_lexer": "ipython3",
   "version": "3.11.3"
  }
 },
 "nbformat": 4,
 "nbformat_minor": 1
}
