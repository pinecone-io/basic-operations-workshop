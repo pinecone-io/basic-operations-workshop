{
 "cells": [
  {
   "attachments": {},
   "cell_type": "markdown",
   "metadata": {},
   "source": [
    "# Lab #2\n",
    "[![Open In Colab](https://colab.research.google.com/assets/colab-badge.svg)](https://colab.research.google.com/github/pinecone-io/basic-operations-workshop/blob/main/lab2.ipynb)\n",
    "1. Install dependencies\n",
    "2. Create a wrongly sized pinecone index - s1.x2 should be s1.x1\n",
    "3. Insert data and get statistics about your index\n",
    "4. Query for top_k=10 with meta-data filter on category and timestamp\n",
    "5. Create a backup(aka collection) and delete the misconfigured index\n",
    "6. Restore the index - s1.x1 with high cardinality meta-data filter exclusion\n",
    "7. Query for top_k=10 with meta-data filter\n",
    "8. TEARDOWN: Delete the index and backup(aka collection)"
   ]
  },
  {
   "cell_type": "markdown",
   "metadata": {},
   "source": [
    "# 1. Install Pinecone client \n",
    "Use the following shell command to install Pinecone:"
   ]
  },
  {
   "cell_type": "code",
   "execution_count": 10,
   "metadata": {},
   "outputs": [
    {
     "name": "stdout",
     "output_type": "stream",
     "text": [
      "Requirement already satisfied: pinecone-client[grpc] in /Library/Frameworks/Python.framework/Versions/3.11/lib/python3.11/site-packages (2.2.2)\n",
      "Requirement already satisfied: python-dotenv in /Library/Frameworks/Python.framework/Versions/3.11/lib/python3.11/site-packages (1.0.0)\n",
      "Requirement already satisfied: requests>=2.19.0 in /Library/Frameworks/Python.framework/Versions/3.11/lib/python3.11/site-packages (from pinecone-client[grpc]) (2.31.0)\n",
      "Requirement already satisfied: pyyaml>=5.4 in /Library/Frameworks/Python.framework/Versions/3.11/lib/python3.11/site-packages (from pinecone-client[grpc]) (6.0.1)\n",
      "Requirement already satisfied: loguru>=0.5.0 in /Library/Frameworks/Python.framework/Versions/3.11/lib/python3.11/site-packages (from pinecone-client[grpc]) (0.7.0)\n",
      "Requirement already satisfied: typing-extensions>=3.7.4 in /Library/Frameworks/Python.framework/Versions/3.11/lib/python3.11/site-packages (from pinecone-client[grpc]) (4.5.0)\n",
      "Requirement already satisfied: dnspython>=2.0.0 in /Library/Frameworks/Python.framework/Versions/3.11/lib/python3.11/site-packages (from pinecone-client[grpc]) (2.4.1)\n",
      "Requirement already satisfied: python-dateutil>=2.5.3 in /Users/williamsj/Library/Python/3.11/lib/python/site-packages (from pinecone-client[grpc]) (2.8.2)\n",
      "Requirement already satisfied: urllib3>=1.21.1 in /Library/Frameworks/Python.framework/Versions/3.11/lib/python3.11/site-packages (from pinecone-client[grpc]) (1.26.16)\n",
      "Requirement already satisfied: tqdm>=4.64.1 in /Library/Frameworks/Python.framework/Versions/3.11/lib/python3.11/site-packages (from pinecone-client[grpc]) (4.65.0)\n",
      "Requirement already satisfied: numpy>=1.22.0 in /Library/Frameworks/Python.framework/Versions/3.11/lib/python3.11/site-packages (from pinecone-client[grpc]) (1.25.2)\n",
      "Requirement already satisfied: grpcio>=1.44.0 in /Library/Frameworks/Python.framework/Versions/3.11/lib/python3.11/site-packages (from pinecone-client[grpc]) (1.56.2)\n",
      "Requirement already satisfied: grpc-gateway-protoc-gen-openapiv2==0.1.0 in /Library/Frameworks/Python.framework/Versions/3.11/lib/python3.11/site-packages (from pinecone-client[grpc]) (0.1.0)\n",
      "Requirement already satisfied: googleapis-common-protos>=1.53.0 in /Library/Frameworks/Python.framework/Versions/3.11/lib/python3.11/site-packages (from pinecone-client[grpc]) (1.60.0)\n",
      "Requirement already satisfied: lz4>=3.1.3 in /Library/Frameworks/Python.framework/Versions/3.11/lib/python3.11/site-packages (from pinecone-client[grpc]) (4.3.2)\n",
      "Requirement already satisfied: protobuf~=3.19.5 in /Library/Frameworks/Python.framework/Versions/3.11/lib/python3.11/site-packages (from pinecone-client[grpc]) (3.19.6)\n",
      "Requirement already satisfied: six>=1.5 in /Users/williamsj/Library/Python/3.11/lib/python/site-packages (from python-dateutil>=2.5.3->pinecone-client[grpc]) (1.16.0)\n",
      "Requirement already satisfied: charset-normalizer<4,>=2 in /Library/Frameworks/Python.framework/Versions/3.11/lib/python3.11/site-packages (from requests>=2.19.0->pinecone-client[grpc]) (3.2.0)\n",
      "Requirement already satisfied: idna<4,>=2.5 in /Library/Frameworks/Python.framework/Versions/3.11/lib/python3.11/site-packages (from requests>=2.19.0->pinecone-client[grpc]) (3.4)\n",
      "Requirement already satisfied: certifi>=2017.4.17 in /Library/Frameworks/Python.framework/Versions/3.11/lib/python3.11/site-packages (from requests>=2.19.0->pinecone-client[grpc]) (2023.7.22)\n",
      "SUCCESS: lab dependencies are installed.\n"
     ]
    }
   ],
   "source": [
    "!pip install -U \"pinecone-client[grpc]\" \"python-dotenv\"\n",
    "\n",
    "try:\n",
    "    import pinecone\n",
    "    import dotenv\n",
    "    import numpy\n",
    "    print(\"SUCCESS: lab dependencies are installed.\")\n",
    "except ImportError as ie:\n",
    "    print(f\"ERROR: key deendencies are not installed: {ie}\")"
   ]
  },
  {
   "cell_type": "markdown",
   "metadata": {},
   "source": [
    "# 2. Create a wrongly sized pinecone index - s1.x2 should be s1.x1\n",
    "\n",
    "* To use Pinecone, you must have an API key. To find your API key, open the [Pinecone console](https://app.pinecone.io/organizations/-NF9xx-MFLRfp0AAuCon/projects/us-east4-gcp:55a4eee/indexes) and click API Keys. This view also displays the environment for your project. Note both your API key and your environment.\n",
    "* Create a .env file and make sure the following properties are specified"
   ]
  },
  {
   "cell_type": "code",
   "execution_count": 11,
   "metadata": {
    "ExecuteTime": {
     "end_time": "2023-06-30T20:54:24.776055Z",
     "start_time": "2023-06-30T20:54:24.767358Z"
    }
   },
   "outputs": [
    {
     "name": "stdout",
     "output_type": "stream",
     "text": [
      "PINECONE_API_KEY: d374643f-7ecd-4e6d-85aa-cbb206249ee1\n",
      "PINECONE_ENVIRONMENT: us-east4-gcp\n",
      "PINECONE_INDEX_NAME: james-williams\n",
      "PINECONE_COLLECTION_NAME: james-williams\n",
      "DIMENSIONS: 512\n",
      "METRIC: euclidean\n"
     ]
    }
   ],
   "source": [
    "import os\n",
    "from dotenv import load_dotenv\n",
    "\n",
    "load_dotenv('.env')\n",
    "\n",
    "PINECONE_API_KEY = os.environ['PINECONE_API_KEY']\n",
    "PINECONE_ENVIRONMENT = os.environ['PINECONE_ENVIRONMENT']\n",
    "PINECONE_INDEX_NAME = os.environ['PINECONE_INDEX_NAME']\n",
    "PINECONE_COLLECTION_NAME = PINECONE_INDEX_NAME\n",
    "DIMENSIONS = int(os.environ['DIMENSIONS'])\n",
    "METRIC = \"euclidean\"\n",
    "\n",
    "# print all of values to verify\n",
    "print(f\"PINECONE_API_KEY: {PINECONE_API_KEY}\")\n",
    "print(f\"PINECONE_ENVIRONMENT: {PINECONE_ENVIRONMENT}\")\n",
    "print(f\"PINECONE_INDEX_NAME: {PINECONE_INDEX_NAME}\")\n",
    "print(f\"PINECONE_COLLECTION_NAME: {PINECONE_COLLECTION_NAME}\")\n",
    "print(f\"DIMENSIONS: {DIMENSIONS}\")\n",
    "print(f\"METRIC: {METRIC}\")\n"
   ]
  },
  {
   "cell_type": "code",
   "execution_count": 12,
   "metadata": {
    "ExecuteTime": {
     "end_time": "2023-06-30T20:54:50.885841Z",
     "start_time": "2023-06-30T20:54:50.618584Z"
    }
   },
   "outputs": [
    {
     "name": "stdout",
     "output_type": "stream",
     "text": [
      "Index Description: IndexDescription(name='james-williams', metric='euclidean', replicas=1, dimension=512.0, shards=1, pods=1, pod_type='s1.x2', status={'ready': True, 'state': 'Ready'}, metadata_config=None, source_collection='')\n"
     ]
    }
   ],
   "source": [
    "# initialize connection to pinecone\n",
    "import pinecone\n",
    "\n",
    "pinecone.init(api_key=PINECONE_API_KEY, environment=PINECONE_ENVIRONMENT)\n",
    "\n",
    "if (PINECONE_INDEX_NAME in pinecone.list_indexes()) != True:  \n",
    "    pinecone.create_index(PINECONE_INDEX_NAME, dimension=DIMENSIONS, metric=METRIC, pods=1, replicas=1, pod_type=\"s1.x2\")\n",
    "else:\n",
    "    print(f\"Index {PINECONE_INDEX_NAME} already exists\")\n",
    "\n",
    "print(f\"Index Description: {pinecone.describe_index(name=PINECONE_INDEX_NAME)}\")"
   ]
  },
  {
   "cell_type": "markdown",
   "metadata": {},
   "source": [
    "# 3. Insert data and get statistics about your index\n",
    "\n",
    "* The upsert operation inserts a new vector in the index or updates the vector if a vector with the same ID is already present.\n",
    "* The following commands upserts a large batch of vectors with meta-data into your index."
   ]
  },
  {
   "cell_type": "code",
   "execution_count": 13,
   "metadata": {},
   "outputs": [
    {
     "name": "stdout",
     "output_type": "stream",
     "text": [
      "Index Description: IndexDescription(name='james-williams', metric='euclidean', replicas=1, dimension=512.0, shards=1, pods=1, pod_type='s1.x2', status={'ready': True, 'state': 'Ready'}, metadata_config=None, source_collection='')\n",
      "Index Stats: {'dimension': 512,\n",
      " 'index_fullness': 0.0,\n",
      " 'namespaces': {'': {'vector_count': 500}},\n",
      " 'total_vector_count': 500}\n"
     ]
    }
   ],
   "source": [
    "import numpy as np\n",
    "import random\n",
    "import time\n",
    "import uuid\n",
    "\n",
    "def generate_vectors(dimensions):\n",
    "    vectors = []\n",
    "    id_seed = 1\n",
    "    value_seed = 0.1\n",
    "\n",
    "    for _ in range(500):\n",
    "        meta_data = {\"category\": random.choice([\"one\", \"two\", \"three\"]),\n",
    "                     \"timestamp\": time.time(),\n",
    "                     \"transaction_id\": str(uuid.uuid4())}\n",
    "        embeddings = np.full(shape=dimensions, fill_value=value_seed).tolist()\n",
    "        vectors.append({'id': str(id_seed),\n",
    "                        'values': embeddings,\n",
    "                        'metadata': meta_data})\n",
    "        id_seed = id_seed + 1\n",
    "        value_seed = value_seed + 0.1\n",
    "    return vectors\n",
    "\n",
    "index = pinecone.Index(PINECONE_INDEX_NAME)\n",
    "index.upsert(generate_vectors(DIMENSIONS))\n",
    "\n",
    "print(f\"Index Description: {pinecone.describe_index(name=PINECONE_INDEX_NAME)}\")\n",
    "print(f\"Index Stats: {index.describe_index_stats()}\")"
   ]
  },
  {
   "cell_type": "markdown",
   "metadata": {},
   "source": [
    "# 4. Query for top_k=10 with meta-data filter on category and timestamp and transaction_id\n",
    "\n",
    "1. Run the query below as-is. This will select the top 10 embeddings that match \"category\" = \"one\"\n",
    "2. Add a timestamp greater than or equal to filter and re-run the query: ```,\"timestamp\": {\"$gt\": SOMETIMESTAMP}```\n",
    "3. Add a transaction equal to filter and re-run the query: ```,\"transaction_id\": {\"$eq\": \"SOME_TRANSACTION_ID\"}```\n",
    "\n",
    "Both the timestamp and transaction filter should work. We are going to re-configure the index to disable meta-data filtering by \"transaction_id\". "
   ]
  },
  {
   "cell_type": "code",
   "execution_count": 14,
   "metadata": {},
   "outputs": [
    {
     "name": "stdout",
     "output_type": "stream",
     "text": [
      "Query results: [{'id': '4',\n",
      " 'metadata': {'category': 'one',\n",
      "              'timestamp': 1692025616.716545,\n",
      "              'transaction_id': '664b73b1-0e75-4514-9b9c-d0d27aeedd98'},\n",
      " 'score': 5.1199646,\n",
      " 'values': []}, {'id': '6',\n",
      " 'metadata': {'category': 'one',\n",
      "              'timestamp': 1692025616.716604,\n",
      "              'transaction_id': 'aab294d0-4354-4c1c-9ad5-a29e874bad6a'},\n",
      " 'score': 5.11999512,\n",
      " 'values': []}, {'id': '7',\n",
      " 'metadata': {'category': 'one',\n",
      "              'timestamp': 1692025616.716626,\n",
      "              'transaction_id': '63376adb-1613-4aa8-9588-1dbd5beaf673'},\n",
      " 'score': 20.480011,\n",
      " 'values': []}, {'id': '8',\n",
      " 'metadata': {'category': 'one',\n",
      "              'timestamp': 1692025616.716654,\n",
      "              'transaction_id': '1fd78a9f-5b06-476c-9589-b697e432392f'},\n",
      " 'score': 46.0799561,\n",
      " 'values': []}, {'id': '1',\n",
      " 'metadata': {'category': 'one',\n",
      "              'timestamp': 1692025616.7161732,\n",
      "              'transaction_id': '10a23b6a-2a63-45bf-868a-4b84d9f68db2'},\n",
      " 'score': 81.9199829,\n",
      " 'values': []}, {'id': '10',\n",
      " 'metadata': {'category': 'one',\n",
      "              'timestamp': 1692025616.716701,\n",
      "              'transaction_id': '13e20ea4-b85c-4d64-a5b4-df66816094a1'},\n",
      " 'score': 127.999939,\n",
      " 'values': []}, {'id': '11',\n",
      " 'metadata': {'category': 'one',\n",
      "              'timestamp': 1692025616.7167208,\n",
      "              'transaction_id': 'eb91fc41-7cc6-46f4-9c9f-d8bb111497db'},\n",
      " 'score': 184.319946,\n",
      " 'values': []}, {'id': '16',\n",
      " 'metadata': {'category': 'one',\n",
      "              'timestamp': 1692025616.7168481,\n",
      "              'transaction_id': '0fa06e70-6469-4cb5-97cb-0c82f3b57032'},\n",
      " 'score': 619.519958,\n",
      " 'values': []}, {'id': '18',\n",
      " 'metadata': {'category': 'one',\n",
      "              'timestamp': 1692025616.716908,\n",
      "              'transaction_id': '48f9628d-91b1-4338-a72b-63c4caaa2e7d'},\n",
      " 'score': 865.280518,\n",
      " 'values': []}, {'id': '21',\n",
      " 'metadata': {'category': 'one',\n",
      "              'timestamp': 1692025616.716974,\n",
      "              'transaction_id': '992981a2-c674-4f47-a166-248c4e212129'},\n",
      " 'score': 1310.71936,\n",
      " 'values': []}]\n"
     ]
    }
   ],
   "source": [
    "embedding = np.full(DIMENSIONS,0.5).tolist()\n",
    "\n",
    "query_results = index.query(\n",
    "  vector = embedding,\n",
    "  top_k=10,\n",
    "  include_values=False,\n",
    "  include_metadata=True,\n",
    "  filter={\n",
    "        \"category\": {\"$eq\": \"one\"}\n",
    "  },).matches\n",
    "print(f\"Query results: {query_results}\")"
   ]
  },
  {
   "attachments": {},
   "cell_type": "markdown",
   "metadata": {},
   "source": [
    "Notice above where it says metadata_config=None. We are going to change that when we create the new index."
   ]
  },
  {
   "attachments": {},
   "cell_type": "markdown",
   "metadata": {},
   "source": [
    "# 5. Create a backup(aka collection) and delete the misconfigured index"
   ]
  },
  {
   "cell_type": "code",
   "execution_count": 15,
   "metadata": {},
   "outputs": [
    {
     "name": "stdout",
     "output_type": "stream",
     "text": [
      "collection initializing, please hold...\n",
      "collection initializing, please hold...\n",
      "{'name': 'james-williams', 'status': 'Ready', 'size': 3262431, 'dimension': 512.0, 'vector_count': 500.0}\n",
      "james-williams should not exist in: []\n"
     ]
    }
   ],
   "source": [
    "import time\n",
    "\n",
    "pinecone.create_collection(name=PINECONE_COLLECTION_NAME, source=PINECONE_INDEX_NAME)\n",
    "\n",
    "while pinecone.describe_collection(name=PINECONE_COLLECTION_NAME).status != \"Ready\":\n",
    "    print(\"collection initializing, please hold...\")\n",
    "    time.sleep(10)\n",
    "print(pinecone.describe_collection(name=PINECONE_COLLECTION_NAME))\n",
    "\n",
    "pinecone.delete_index(PINECONE_INDEX_NAME)\n",
    "print(f\"{PINECONE_INDEX_NAME} should not exist in: {pinecone.list_indexes()}\")"
   ]
  },
  {
   "cell_type": "markdown",
   "metadata": {},
   "source": [
    "### WARNING: You must wait for the collection to be 'READY' before moving on"
   ]
  },
  {
   "cell_type": "markdown",
   "metadata": {},
   "source": [
    "# 6. Restore the index - s1.x1 with high cardinality meta-data filter exclusion"
   ]
  },
  {
   "attachments": {},
   "cell_type": "markdown",
   "metadata": {},
   "source": [
    "Create a new index with metadata_config and right sizing (scale down) using the PINECONE_COLLECTION_NAME as the source"
   ]
  },
  {
   "cell_type": "code",
   "execution_count": 17,
   "metadata": {},
   "outputs": [
    {
     "name": "stdout",
     "output_type": "stream",
     "text": [
      "Index Description: IndexDescription(name='james-williams', metric='euclidean', replicas=1, dimension=512.0, shards=1, pods=1, pod_type='s1.x1', status={'ready': True, 'state': 'Ready'}, metadata_config={'indexed': ['category', 'timestamp']}, source_collection='james-williams')\n",
      "Index Stats: {'dimension': 512,\n",
      " 'index_fullness': 0.0,\n",
      " 'namespaces': {'': {'vector_count': 500}},\n",
      " 'total_vector_count': 500}\n"
     ]
    }
   ],
   "source": [
    "import time\n",
    "# check if index already exists (it shouldn't because we just deleted it)\n",
    "if PINECONE_INDEX_NAME not in pinecone.list_indexes():\n",
    "    # if does not exist, create index\n",
    "    pinecone.create_index(\n",
    "        PINECONE_INDEX_NAME,\n",
    "        dimension=DIMENSIONS,\n",
    "        metric=METRIC,\n",
    "        replicas=1,\n",
    "        pods=1,\n",
    "        pod_type='s1.x1',\n",
    "        source_collection=PINECONE_COLLECTION_NAME,\n",
    "        metadata_config={\"indexed\": [\"category\", \"timestamp\"]} # all other fields will be stored-only. You can put a dummy value here as a place holder if you have no fields that need to be indexed\n",
    "    )\n",
    "\n",
    "    print(\"Sleeping for additional 10 seconds to give the index time to be created\")\n",
    "    time.sleep(10)\n",
    "print(f\"Index Description: {pinecone.describe_index(name=PINECONE_INDEX_NAME)}\")\n",
    "index = pinecone.Index(PINECONE_INDEX_NAME)\n",
    "print(f\"Index Stats: {index.describe_index_stats()}\")"
   ]
  },
  {
   "attachments": {},
   "cell_type": "markdown",
   "metadata": {},
   "source": [
    "Notice now it says metadata_config={'indexed': ['category', 'timestamp']}\n",
    "\n",
    "This will result in the metadata field 'category' and 'timestamp' being indexed. All other fields will be stored-only. This means that you can retrieve them, but you cannot use them in queries.\n",
    "\n",
    "We have also resized the index to s1.x1 again to bring the pod count down to appropriate size in this case. "
   ]
  },
  {
   "cell_type": "markdown",
   "metadata": {},
   "source": [
    "# 7. Query for top_k=10 with meta-data filter\n",
    "\n",
    "1. Run the query below as-is. This will select the top 10 embeddings that match \"category\" = \"one\"\n",
    "2. Add a timestamp greater than or equal to filter and re-run the query: ```,\"timestamp\": {\"$gt\": SOMETIMESTAMP}```\n",
    "3. Add a transaction equal to filter and re-run the query: ```,\"transaction_id\": {\"$eq\": \"SOME_TRANSACTION_ID\"}```\n",
    "\n",
    "The transaction filter should **NOT** return any results. It shows we have successfully re-configured the index to disable meta-data filtering by \"transaction_id\". "
   ]
  },
  {
   "cell_type": "code",
   "execution_count": null,
   "metadata": {},
   "outputs": [],
   "source": [
    "embedding = np.full(DIMENSIONS,0.5).tolist()\n",
    "\n",
    "query_results = index.query(\n",
    "  vector = embedding,\n",
    "  top_k=10,\n",
    "  include_values=False,\n",
    "  include_metadata=True,\n",
    "  filter={\n",
    "        \"category\": {\"$eq\": \"one\"},\n",
    "        \"timestamp\": {\"$gt\": 1791769493},\n",
    "  },).matches\n",
    "print(f\"Query results: {query_results}\")"
   ]
  },
  {
   "attachments": {},
   "cell_type": "markdown",
   "metadata": {},
   "source": [
    "# 8. TEARDOWN: Delete the index and backup(aka collection)\n",
    "# WARNING: This next step will delete the PINECONE_INDEX_NAME index and all data in it. DO NOT RUN THIS UNTIL YOU ARE READY OR MANUALLY REMOVE THE INDEX INSTEAD!!! "
   ]
  },
  {
   "cell_type": "code",
   "execution_count": 9,
   "metadata": {},
   "outputs": [
    {
     "name": "stdout",
     "output_type": "stream",
     "text": [
      "james-williams index should not exist in index list: []\n",
      "james-williams collection should not exist in collection list: []\n"
     ]
    }
   ],
   "source": [
    "if PINECONE_INDEX_NAME in pinecone.list_indexes():\n",
    "    pinecone.delete_index(PINECONE_INDEX_NAME)\n",
    "if PINECONE_COLLECTION_NAME in pinecone.list_collections():\n",
    "    pinecone.delete_collection(PINECONE_COLLECTION_NAME)\n",
    "    \n",
    "pinecone.list_indexes()\n",
    "pinecone.list_collections()\n",
    "\n",
    "print(f\"{PINECONE_INDEX_NAME} index should not exist in index list: {pinecone.list_indexes()}\")\n",
    "print(f\"{PINECONE_COLLECTION_NAME} collection should not exist in collection list: {pinecone.list_collections()}\")"
   ]
  }
 ],
 "metadata": {
  "kernelspec": {
   "display_name": "pinecone",
   "language": "python",
   "name": "python3"
  },
  "language_info": {
   "codemirror_mode": {
    "name": "ipython",
    "version": 3
   },
   "file_extension": ".py",
   "mimetype": "text/x-python",
   "name": "python",
   "nbconvert_exporter": "python",
   "pygments_lexer": "ipython3",
   "version": "3.11.3"
  },
  "orig_nbformat": 4
 },
 "nbformat": 4,
 "nbformat_minor": 2
}
