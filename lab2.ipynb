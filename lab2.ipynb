{
 "cells": [
  {
   "attachments": {},
   "cell_type": "markdown",
   "metadata": {},
   "source": [
    "# Lab #2\n",
    "[![Open In Colab](https://colab.research.google.com/assets/colab-badge.svg)](https://colab.research.google.com/github/pinecone-io/basic-operations-workshop/blob/main/lab2.ipynb)\n",
    "1. Install dependencies\n",
    "2. Create a wrongly sized pinecone index - s1.x2 should be s1.x1\n",
    "3. Insert data and get statistics about your index\n",
    "4. Query for top_k=10 with meta-data filter on category and timestamp\n",
    "5. Create a backup(aka collection) and delete the misconfigured index\n",
    "6. Restore the index - s1.x1 with high cardinality meta-data filter exclusion\n",
    "7. Query for top_k=10 with meta-data filter\n",
    "8. TEARDOWN: Delete the index and backup(aka collection)"
   ]
  },
  {
   "cell_type": "markdown",
   "metadata": {},
   "source": [
    "# 1. Install Pinecone client \n",
    "Use the following shell command to install Pinecone:"
   ]
  },
  {
   "cell_type": "code",
   "execution_count": null,
   "metadata": {},
   "outputs": [],
   "source": [
    "!pip install -U \"pinecone-client[grpc]\" \"python-dotenv\"\n",
    "\n",
    "try:\n",
    "    import pinecone\n",
    "    import dotenv\n",
    "    import numpy\n",
    "    print(\"SUCCESS: lab dependencies are installed.\")\n",
    "except ImportError as ie:\n",
    "    print(f\"ERROR: key deendencies are not installed: {ie}\")"
   ]
  },
  {
   "cell_type": "markdown",
   "metadata": {},
   "source": [
    "# 2. Create a wrongly sized pinecone index - s1.x2 should be s1.x1\n",
    "\n",
    "* To use Pinecone, you must have an API key. To find your API key, open the [Pinecone console](https://app.pinecone.io/organizations/-NF9xx-MFLRfp0AAuCon/projects/us-east4-gcp:55a4eee/indexes) and click API Keys. This view also displays the environment for your project. Note both your API key and your environment.\n",
    "* Create a .env file and make sure the following properties are specified"
   ]
  },
  {
   "cell_type": "code",
   "execution_count": null,
   "metadata": {
    "ExecuteTime": {
     "end_time": "2023-06-30T20:54:24.776055Z",
     "start_time": "2023-06-30T20:54:24.767358Z"
    }
   },
   "outputs": [],
   "source": [
    "import os\n",
    "from dotenv import load_dotenv\n",
    "\n",
    "load_dotenv('.env')\n",
    "\n",
    "PINECONE_API_KEY = os.environ['PINECONE_API_KEY']\n",
    "PINECONE_ENVIRONMENT = os.environ['PINECONE_ENVIRONMENT']\n",
    "PINECONE_INDEX_NAME = os.environ['PINECONE_INDEX_NAME']\n",
    "PINECONE_COLLECTION_NAME = PINECONE_INDEX_NAME\n",
    "DIMENSIONS = int(os.environ['DIMENSIONS'])\n",
    "METRIC = os.environ['METRIC']\n",
    "\n",
    "# print all of values to verify\n",
    "print(f\"PINECONE_API_KEY: {PINECONE_API_KEY}\")\n",
    "print(f\"PINECONE_ENVIRONMENT: {PINECONE_ENVIRONMENT}\")\n",
    "print(f\"PINECONE_INDEX_NAME: {PINECONE_INDEX_NAME}\")\n",
    "print(f\"PINECONE_COLLECTION_NAME: {PINECONE_COLLECTION_NAME}\")\n",
    "print(f\"DIMENSIONS: {DIMENSIONS}\")\n",
    "print(f\"METRIC: {METRIC}\")\n"
   ]
  },
  {
   "cell_type": "code",
   "execution_count": null,
   "metadata": {
    "ExecuteTime": {
     "end_time": "2023-06-30T20:54:50.885841Z",
     "start_time": "2023-06-30T20:54:50.618584Z"
    }
   },
   "outputs": [],
   "source": [
    "# initialize connection to pinecone\n",
    "import pinecone\n",
    "\n",
    "pinecone.init(api_key=PINECONE_API_KEY, environment=PINECONE_ENVIRONMENT)\n",
    "\n",
    "if (PINECONE_INDEX_NAME in pinecone.list_indexes()) != True:  \n",
    "    pinecone.create_index(PINECONE_INDEX_NAME, dimension=DIMENSIONS, metric=METRIC, pods=1, replicas=1, pod_type=\"s1.x2\")\n",
    "else:\n",
    "    print(f\"Index {PINECONE_INDEX_NAME} already exists\")\n",
    "\n",
    "print(f\"Index Description: {pinecone.describe_index(name=PINECONE_INDEX_NAME)}\")"
   ]
  },
  {
   "cell_type": "markdown",
   "metadata": {},
   "source": [
    "# 3. Insert data and get statistics about your index\n",
    "\n",
    "* The upsert operation inserts a new vector in the index or updates the vector if a vector with the same ID is already present.\n",
    "* The following commands upserts a large batch of vectors with meta-data into your index."
   ]
  },
  {
   "cell_type": "code",
   "execution_count": null,
   "metadata": {},
   "outputs": [],
   "source": [
    "import numpy as np\n",
    "import random\n",
    "import time\n",
    "import uuid\n",
    "\n",
    "def generate_vectors(dimensions):\n",
    "    vectors = []\n",
    "    id_seed = 1\n",
    "    value_seed = 0.1\n",
    "\n",
    "    for _ in range(500):\n",
    "        meta_data = {\"category\": random.choice([\"one\", \"two\", \"three\"]),\n",
    "                     \"timestamp\": time.time(),\n",
    "                     \"transaction_id\": str(uuid.uuid4())}\n",
    "        embeddings = np.full(shape=dimensions, fill_value=value_seed).tolist()\n",
    "        vectors.append({'id': str(id_seed),\n",
    "                        'values': embeddings,\n",
    "                        'metadata': meta_data})\n",
    "        id_seed = id_seed + 1\n",
    "        value_seed = value_seed + 0.1\n",
    "    return vectors\n",
    "\n",
    "index = pinecone.Index(PINECONE_INDEX_NAME)\n",
    "index.upsert(generate_vectors(DIMENSIONS))\n",
    "\n",
    "print(f\"Index Description: {pinecone.describe_index(name=PINECONE_INDEX_NAME)}\")\n",
    "print(f\"Index Stats: {index.describe_index_stats()}\")"
   ]
  },
  {
   "cell_type": "markdown",
   "metadata": {},
   "source": [
    "# 4. Query for top_k=10 with meta-data filter on category and timestamp and transaction_id\n",
    "\n",
    "1. Run the query below as-is. This will select the top 10 embeddings that match \"category\" = \"one\"\n",
    "2. Add a timestamp greater than or equal to filter and re-run the query: ```,\"timestamp\": {\"$gt\": SOMETIMESTAMP}```\n",
    "3. Add a transaction equal to filter and re-run the query: ```,\"transaction_id\": {\"$eq\": \"SOME_TRANSACTION_ID\"}```\n",
    "\n",
    "Both the timestamp and transaction filter should work. We are going to re-configure the index to disable meta-data filtering by \"transaction_id\". "
   ]
  },
  {
   "cell_type": "code",
   "execution_count": null,
   "metadata": {},
   "outputs": [],
   "source": [
    "embedding = np.full(DIMENSIONS,0.5).tolist()\n",
    "\n",
    "query_results = index.query(\n",
    "  vector = embedding,\n",
    "  top_k=10,\n",
    "  include_values=False,\n",
    "  include_metadata=True,\n",
    "  filter={\n",
    "        \"category\": {\"$eq\": \"one\"}\n",
    "  },).matches\n",
    "print(f\"Query results: {query_results}\")"
   ]
  },
  {
   "attachments": {},
   "cell_type": "markdown",
   "metadata": {},
   "source": [
    "Notice above where it says metadata_config=None. We are going to change that when we create the new index."
   ]
  },
  {
   "attachments": {},
   "cell_type": "markdown",
   "metadata": {},
   "source": [
    "# 5. Create a backup(aka collection) and delete the misconfigured index"
   ]
  },
  {
   "cell_type": "code",
   "execution_count": null,
   "metadata": {},
   "outputs": [],
   "source": [
    "import time\n",
    "\n",
    "pinecone.create_collection(name=PINECONE_COLLECTION_NAME, source=PINECONE_INDEX_NAME)\n",
    "\n",
    "while pinecone.describe_collection(name=PINECONE_COLLECTION_NAME).status != \"Ready\":\n",
    "    print(\"collection initializing, please hold...\")\n",
    "    time.sleep(10)\n",
    "print(pinecone.describe_collection(name=PINECONE_COLLECTION_NAME))\n",
    "\n",
    "pinecone.delete_index(PINECONE_INDEX_NAME)\n",
    "print(f\"{PINECONE_INDEX_NAME} should not exist in: {pinecone.list_indexes()}\")"
   ]
  },
  {
   "cell_type": "markdown",
   "metadata": {},
   "source": [
    "### WARNING: You must wait for the collection to be 'READY' before moving on"
   ]
  },
  {
   "cell_type": "markdown",
   "metadata": {},
   "source": [
    "# 6. Restore the index - s1.x1 with high cardinality meta-data filter exclusion"
   ]
  },
  {
   "attachments": {},
   "cell_type": "markdown",
   "metadata": {},
   "source": [
    "Create a new index with metadata_config and right sizing (scale down) using the PINECONE_COLLECTION_NAME as the source"
   ]
  },
  {
   "cell_type": "code",
   "execution_count": null,
   "metadata": {},
   "outputs": [],
   "source": [
    "# check if index already exists (it shouldn't because we just deleted it)\n",
    "if PINECONE_INDEX_NAME not in pinecone.list_indexes():\n",
    "    # if does not exist, create index\n",
    "    pinecone.create_index(\n",
    "        PINECONE_INDEX_NAME,\n",
    "        dimension=DIMENSIONS,\n",
    "        metric=METRIC,\n",
    "        replicas=1,\n",
    "        pods=1,\n",
    "        pod_type='s1.x1',\n",
    "        source_collection=PINECONE_COLLECTION_NAME,\n",
    "        metadata_config={\"indexed\": [\"category\", \"timestamp\"]} # all other fields will be stored-only. You can put a dummy value here as a place holder if you have no fields that need to be indexed\n",
    "    )\n",
    "print(f\"Index Description: {pinecone.describe_index(name=PINECONE_INDEX_NAME)}\")\n",
    "index = pinecone.Index(PINECONE_INDEX_NAME)\n",
    "print(f\"Index Stats: {index.describe_index_stats()}\")"
   ]
  },
  {
   "attachments": {},
   "cell_type": "markdown",
   "metadata": {},
   "source": [
    "Notice now it says metadata_config={'indexed': ['category', 'timestamp']}\n",
    "\n",
    "This will result in the metadata field 'category' and 'timestamp' being indexed. All other fields will be stored-only. This means that you can retrieve them, but you cannot use them in queries.\n",
    "\n",
    "We have also resized the index to s1.x1 again to bring the pod count down to appropriate size in this case. "
   ]
  },
  {
   "cell_type": "markdown",
   "metadata": {},
   "source": [
    "# 7. Query for top_k=10 with meta-data filter\n",
    "\n",
    "1. Run the query below as-is. This will select the top 10 embeddings that match \"category\" = \"one\"\n",
    "2. Add a timestamp greater than or equal to filter and re-run the query: ```,\"timestamp\": {\"$gt\": SOMETIMESTAMP}```\n",
    "3. Add a transaction equal to filter and re-run the query: ```,\"transaction_id\": {\"$eq\": \"SOME_TRANSACTION_ID\"}```\n",
    "\n",
    "The transaction filter should **NOT** return any results. It shows we have successfully re-configured the index to disable meta-data filtering by \"transaction_id\". "
   ]
  },
  {
   "cell_type": "code",
   "execution_count": null,
   "metadata": {},
   "outputs": [],
   "source": [
    "embedding = np.full(DIMENSIONS,0.5).tolist()\n",
    "\n",
    "query_results = index.query(\n",
    "  vector = embedding,\n",
    "  top_k=10,\n",
    "  include_values=False,\n",
    "  include_metadata=True,\n",
    "  filter={\n",
    "        \"category\": {\"$eq\": \"one\"}\n",
    "  },).matches\n",
    "print(f\"Query results: {query_results}\")"
   ]
  },
  {
   "attachments": {},
   "cell_type": "markdown",
   "metadata": {},
   "source": [
    "# 8. TEARDOWN: Delete the index and backup(aka collection)\n",
    "# WARNING: This next step will delete the PINECONE_INDEX_NAME index and all data in it. DO NOT RUN THIS UNTIL YOU ARE READY OR MANUALLY REMOVE THE INDEX INSTEAD!!! "
   ]
  },
  {
   "cell_type": "code",
   "execution_count": null,
   "metadata": {},
   "outputs": [],
   "source": [
    "if PINECONE_INDEX_NAME in pinecone.list_indexes():\n",
    "    pinecone.delete_index(PINECONE_INDEX_NAME)\n",
    "if PINECONE_COLLECTION_NAME in pinecone.list_collections():\n",
    "    pinecone.delete_collection(PINECONE_COLLECTION_NAME)\n",
    "    \n",
    "pinecone.list_indexes()\n",
    "pinecone.list_collections()\n",
    "\n",
    "print(f\"{PINECONE_INDEX_NAME} index should not exist in index list: {pinecone.list_indexes()}\")\n",
    "print(f\"{PINECONE_COLLECTION_NAME} collection should not exist in collection list: {pinecone.list_collections()}\")"
   ]
  }
 ],
 "metadata": {
  "kernelspec": {
   "display_name": "pinecone",
   "language": "python",
   "name": "python3"
  },
  "language_info": {
   "codemirror_mode": {
    "name": "ipython",
    "version": 3
   },
   "file_extension": ".py",
   "mimetype": "text/x-python",
   "name": "python",
   "nbconvert_exporter": "python",
   "pygments_lexer": "ipython3",
   "version": "3.11.3"
  },
  "orig_nbformat": 4
 },
 "nbformat": 4,
 "nbformat_minor": 2
}
